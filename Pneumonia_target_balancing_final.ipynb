{
  "nbformat": 4,
  "nbformat_minor": 0,
  "metadata": {
    "colab": {
      "name": "Pneumonia-target-balancing-final.ipynb",
      "provenance": [],
      "collapsed_sections": []
    },
    "kernelspec": {
      "name": "python3",
      "display_name": "Python 3"
    },
    "language_info": {
      "name": "python"
    }
  },
  "cells": [
    {
      "cell_type": "code",
      "execution_count": null,
      "metadata": {
        "id": "zdkXkdzSXJyz"
      },
      "outputs": [],
      "source": [
        "import numpy as np\n",
        "import tensorflow as tf\n",
        "import pandas as pd\n",
        "from pneumonia import Preprocess"
      ]
    },
    {
      "cell_type": "code",
      "source": [
        "test_dir = 'drive/MyDrive/chest_xray/Pneumonia_test.npz'\n",
        "train_dir = 'drive/MyDrive/chest_xray/Pneumonia_train.npz'\n",
        "val_dir = 'drive/MyDrive/chest_xray/Pneumonia_val.npz'"
      ],
      "metadata": {
        "id": "-S7fIoHoXPpR"
      },
      "execution_count": null,
      "outputs": []
    },
    {
      "cell_type": "code",
      "source": [
        "test = Preprocess()\n",
        "train = Preprocess()\n",
        "val = Preprocess()"
      ],
      "metadata": {
        "id": "F88GPhqIXijr"
      },
      "execution_count": null,
      "outputs": []
    },
    {
      "cell_type": "code",
      "source": [
        "test_data = np.load(test_dir)\n",
        "test_inputs = test_data['inputs'].astype(np.ndarray)\n",
        "test_targets = test_data['targets']\n",
        "\n",
        "train_data = np.load(train_dir)\n",
        "train_inputs = train_data['inputs'].astype(np.ndarray)\n",
        "train_targets = train_data['targets']\n",
        "\n",
        "val_data = np.load(val_dir)\n",
        "val_inputs = val_data['inputs'].astype(np.ndarray)\n",
        "val_targets = val_data['targets']"
      ],
      "metadata": {
        "id": "q1uXuWW_Xp0t"
      },
      "execution_count": null,
      "outputs": []
    },
    {
      "cell_type": "code",
      "source": [
        "print('Test 1:',np.count_nonzero(test_targets == 'yes'),'Test 0:',np.count_nonzero(test_targets == 'no'))\n",
        "print('Train 1:',np.count_nonzero(train_targets == 'yes'),'Train 0:',np.count_nonzero(train_targets == 'no'))\n",
        "print('val 1:',np.count_nonzero(val_targets == 'yes'),'val 0:',np.count_nonzero(val_targets == 'no'))\n",
        "test_targets"
      ],
      "metadata": {
        "colab": {
          "base_uri": "https://localhost:8080/"
        },
        "id": "YRaw673ZYZiH",
        "outputId": "42918b6d-bb4e-4a0d-e76e-d019b66c5dcc"
      },
      "execution_count": null,
      "outputs": [
        {
          "output_type": "stream",
          "name": "stdout",
          "text": [
            "Test 1: 780 Test 0: 468\n",
            "Train 1: 7750 Train 0: 2682\n",
            "val 1: 16 val 0: 16\n"
          ]
        },
        {
          "output_type": "execute_result",
          "data": {
            "text/plain": [
              "array(['no', 'no', 'no', ..., 'yes', 'no', 'no'], dtype='<U3')"
            ]
          },
          "metadata": {},
          "execution_count": 5
        }
      ]
    },
    {
      "cell_type": "code",
      "source": [
        "test_inputs"
      ],
      "metadata": {
        "colab": {
          "base_uri": "https://localhost:8080/"
        },
        "id": "wsE8fLa_pJUU",
        "outputId": "bbf7abe5-e7b4-4e6e-f534-067c919f429b"
      },
      "execution_count": null,
      "outputs": [
        {
          "output_type": "execute_result",
          "data": {
            "text/plain": [
              "array([[[0.3607843137254902, 0.36470588235294116, 0.36470588235294116,\n",
              "         ..., 0.6627450980392157, 0.6666666666666666,\n",
              "         0.6666666666666666],\n",
              "        [0.6588235294117647, 0.6431372549019608, 0.6274509803921569,\n",
              "         ..., 0.6705882352941176, 0.6666666666666666,\n",
              "         0.6705882352941176],\n",
              "        [0.6588235294117647, 0.6588235294117647, 0.6549019607843137,\n",
              "         ..., 0.5215686274509804, 0.5176470588235295,\n",
              "         0.5137254901960784],\n",
              "        ...,\n",
              "        [0.7647058823529411, 0.7607843137254902, 0.7568627450980392,\n",
              "         ..., 0.7333333333333333, 0.7294117647058823,\n",
              "         0.7333333333333333],\n",
              "        [0.7333333333333333, 0.7333333333333333, 0.7215686274509804,\n",
              "         ..., 0.592156862745098, 0.596078431372549, 0.596078431372549],\n",
              "        [0.596078431372549, 0.596078431372549, 0.596078431372549, ...,\n",
              "         0.5490196078431373, 0.5490196078431373, 0.5490196078431373]],\n",
              "\n",
              "       [[0.0, 0.0, 0.0, ..., 0.0, 0.0, 0.0],\n",
              "        [0.0, 0.0, 0.0, ..., 0.0, 0.0, 0.0],\n",
              "        [0.0, 0.0, 0.0, ..., 0.0, 0.0, 0.0],\n",
              "        ...,\n",
              "        [0.0, 0.0, 0.0, ..., 0.0, 0.0, 0.0],\n",
              "        [0.0, 0.0, 0.0, ..., 0.0, 0.0, 0.0],\n",
              "        [0.0, 0.0, 0.0, ..., 0.0, 0.0, 0.0]],\n",
              "\n",
              "       [[0.0, 0.0, 0.0, ..., 0.0, 0.0, 0.0],\n",
              "        [0.0, 0.0, 0.0, ..., 0.0, 0.0, 0.0],\n",
              "        [0.0, 0.0, 0.0, ..., 0.0, 0.0, 0.0],\n",
              "        ...,\n",
              "        [0.0, 0.0, 0.0, ..., 0.0, 0.0, 0.0],\n",
              "        [0.0, 0.0, 0.0, ..., 0.0, 0.0, 0.0],\n",
              "        [0.0, 0.0, 0.0, ..., 0.0, 0.0, 0.0]],\n",
              "\n",
              "       ...,\n",
              "\n",
              "       [[0.00392156862745098, 0.00392156862745098, 0.00392156862745098,\n",
              "         ..., 0.00784313725490196, 0.00784313725490196,\n",
              "         0.00784313725490196],\n",
              "        [0.011764705882352941, 0.01568627450980392, 0.0196078431372549,\n",
              "         ..., 0.3686274509803922, 0.3607843137254902,\n",
              "         0.3607843137254902],\n",
              "        [0.36470588235294116, 0.3686274509803922, 0.37254901960784315,\n",
              "         ..., 0.6235294117647059, 0.615686274509804, 0.611764705882353],\n",
              "        ...,\n",
              "        [0.3215686274509804, 0.3254901960784314, 0.3254901960784314,\n",
              "         ..., 0.611764705882353, 0.615686274509804, 0.6196078431372549],\n",
              "        [0.615686274509804, 0.615686274509804, 0.611764705882353, ...,\n",
              "         0.5529411764705883, 0.5529411764705883, 0.5490196078431373],\n",
              "        [0.5450980392156862, 0.5450980392156862, 0.5450980392156862,\n",
              "         ..., 0.5607843137254902, 0.5647058823529412,\n",
              "         0.5686274509803921]],\n",
              "\n",
              "       [[0.5372549019607843, 0.5372549019607843, 0.5372549019607843,\n",
              "         ..., 0.7450980392156863, 0.7411764705882353,\n",
              "         0.7568627450980392],\n",
              "        [0.7568627450980392, 0.7411764705882353, 0.7372549019607844,\n",
              "         ..., 0.6, 0.596078431372549, 0.611764705882353],\n",
              "        [0.596078431372549, 0.5764705882352941, 0.5490196078431373, ...,\n",
              "         0.5215686274509804, 0.5254901960784314, 0.5254901960784314],\n",
              "        ...,\n",
              "        [0.4, 0.396078431372549, 0.396078431372549, ...,\n",
              "         0.06666666666666667, 0.06666666666666667, 0.06666666666666667],\n",
              "        [0.07450980392156863, 0.07450980392156863, 0.07450980392156863,\n",
              "         ..., 0.25098039215686274, 0.25098039215686274,\n",
              "         0.24705882352941178],\n",
              "        [0.24705882352941178, 0.24313725490196078, 0.24313725490196078,\n",
              "         ..., 0.4392156862745098, 0.44313725490196076,\n",
              "         0.4470588235294118]],\n",
              "\n",
              "       [[0.0, 0.0, 0.0, ..., 0.12156862745098039, 0.12156862745098039,\n",
              "         0.12156862745098039],\n",
              "        [0.12156862745098039, 0.12156862745098039, 0.12156862745098039,\n",
              "         ..., 0.12156862745098039, 0.12156862745098039,\n",
              "         0.12156862745098039],\n",
              "        [0.12156862745098039, 0.12156862745098039, 0.12156862745098039,\n",
              "         ..., 0.12156862745098039, 0.12156862745098039,\n",
              "         0.12156862745098039],\n",
              "        ...,\n",
              "        [0.6862745098039216, 0.6862745098039216, 0.6862745098039216,\n",
              "         ..., 0.5411764705882353, 0.5372549019607843,\n",
              "         0.5372549019607843],\n",
              "        [0.5372549019607843, 0.5372549019607843, 0.5333333333333333,\n",
              "         ..., 0.13333333333333333, 0.12156862745098039,\n",
              "         0.11372549019607843],\n",
              "        [0.10980392156862745, 0.10588235294117647, 0.10980392156862745,\n",
              "         ..., 0.12156862745098039, 0.12156862745098039,\n",
              "         0.12156862745098039]]], dtype=object)"
            ]
          },
          "metadata": {},
          "execution_count": 6
        }
      ]
    },
    {
      "cell_type": "code",
      "source": [
        "test_inputs,test_targets = test.balance_targets(test_inputs,test_targets,shuffle=True)"
      ],
      "metadata": {
        "id": "yAqVCtL8ZDa4"
      },
      "execution_count": null,
      "outputs": []
    },
    {
      "cell_type": "code",
      "source": [
        "train_inputs,train_targets = train.balance_targets(train_inputs,train_targets,shuffle=True)"
      ],
      "metadata": {
        "id": "mO49qoCRZVUs"
      },
      "execution_count": null,
      "outputs": []
    },
    {
      "cell_type": "code",
      "source": [
        "val_inputs,val_targets = val.balance_targets(val_inputs,val_targets,shuffle=True)"
      ],
      "metadata": {
        "id": "HMyiOVObZgB6"
      },
      "execution_count": null,
      "outputs": []
    },
    {
      "cell_type": "code",
      "source": [
        "print('Test 1:',np.count_nonzero(test_targets == 'yes'),'Test 0:',np.count_nonzero(test_targets == 'no'))\n",
        "print('Train 1:',np.count_nonzero(train_targets == 'yes'),'Train 0:',np.count_nonzero(train_targets == 'no'))\n",
        "print('val 1:',np.count_nonzero(val_targets == 'yes'),'val 0:',np.count_nonzero(val_targets == 'no'))"
      ],
      "metadata": {
        "colab": {
          "base_uri": "https://localhost:8080/"
        },
        "id": "Vi_gibgpZiUl",
        "outputId": "aca5512d-61a1-4a71-86b2-63be8e1cc7b3"
      },
      "execution_count": null,
      "outputs": [
        {
          "output_type": "stream",
          "name": "stdout",
          "text": [
            "Test 1: 468 Test 0: 468\n",
            "Train 1: 2682 Train 0: 2682\n",
            "val 1: 16 val 0: 16\n"
          ]
        }
      ]
    },
    {
      "cell_type": "code",
      "source": [
        "np.savez('drive/MyDrive/chest_xray/Pneumonia_test_balanced',inputs=test_inputs,targets=test_targets)"
      ],
      "metadata": {
        "id": "497j6G2gZnn1"
      },
      "execution_count": null,
      "outputs": []
    },
    {
      "cell_type": "code",
      "source": [
        "np.savez('drive/MyDrive/chest_xray/Pneumonia_train_balanced',inputs=train_inputs,targets=train_targets)"
      ],
      "metadata": {
        "id": "TGV3p8N9aBbv"
      },
      "execution_count": null,
      "outputs": []
    },
    {
      "cell_type": "code",
      "source": [
        "np.savez('drive/MyDrive/chest_xray/Pneumonia_val_balanced',inputs=val_inputs,targets=val_targets)"
      ],
      "metadata": {
        "id": "-1m-d3RuaEow"
      },
      "execution_count": null,
      "outputs": []
    }
  ]
}