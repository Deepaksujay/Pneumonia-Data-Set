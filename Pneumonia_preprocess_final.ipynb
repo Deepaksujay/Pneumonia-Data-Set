{
  "nbformat": 4,
  "nbformat_minor": 0,
  "metadata": {
    "colab": {
      "name": "Pneumonia-preprocess-final.ipynb",
      "provenance": [],
      "collapsed_sections": []
    },
    "kernelspec": {
      "name": "python3",
      "display_name": "Python 3"
    },
    "language_info": {
      "name": "python"
    }
  },
  "cells": [
    {
      "cell_type": "code",
      "execution_count": null,
      "metadata": {
        "id": "YeqsAjfHgB8a"
      },
      "outputs": [],
      "source": [
        "import numpy as np\n",
        "from pneumonia import Preprocess\n",
        "import tensorflow as tf"
      ]
    },
    {
      "cell_type": "code",
      "source": [
        "test_dir = 'drive/MyDrive/chest_xray/test'\n",
        "train_dir = 'drive/MyDrive/chest_xray/train'\n",
        "val_dir = 'drive/MyDrive/chest_xray/val'"
      ],
      "metadata": {
        "id": "jY0QsnCogRW9"
      },
      "execution_count": null,
      "outputs": []
    },
    {
      "cell_type": "code",
      "source": [
        "test_pre = Preprocess(test_dir)\n",
        "train_pre = Preprocess(train_dir)\n",
        "val_pre = Preprocess(val_dir)"
      ],
      "metadata": {
        "id": "e_VL5SdIgaGT"
      },
      "execution_count": null,
      "outputs": []
    },
    {
      "cell_type": "code",
      "source": [
        "no = [0,'NORMAL']\n",
        "yes = [1,'PNEUMONIA']"
      ],
      "metadata": {
        "id": "UB7whd69gdvD"
      },
      "execution_count": null,
      "outputs": []
    },
    {
      "cell_type": "code",
      "source": [
        "test_no_inputs,test_no_targets = test_pre.get_all_photos_as_array(target=no[0],folder_name=no[1])\n",
        "test_yes_inputs,test_yes_targets = test_pre.get_all_photos_as_array(target=yes[0],folder_name=yes[1])"
      ],
      "metadata": {
        "id": "csRXkVx0ggjf"
      },
      "execution_count": null,
      "outputs": []
    },
    {
      "cell_type": "code",
      "source": [
        "test_inputs = test_pre.add_these_row_wise(test_no_inputs,test_yes_inputs)\n",
        "test_targets = test_pre.add_these_row_wise(test_no_targets,test_yes_targets)\n",
        "test_inputs,test_targets = test_pre.shuffle_inputs_and_targets(test_inputs,test_targets)"
      ],
      "metadata": {
        "id": "muxcxdANgkpm"
      },
      "execution_count": null,
      "outputs": []
    },
    {
      "cell_type": "code",
      "source": [
        "test_targets"
      ],
      "metadata": {
        "colab": {
          "base_uri": "https://localhost:8080/"
        },
        "id": "EcAakB-p5IIH",
        "outputId": "ef6e0faf-7891-427a-8812-2cde57e04141"
      },
      "execution_count": null,
      "outputs": [
        {
          "output_type": "execute_result",
          "data": {
            "text/plain": [
              "array(['no', 'no', 'no', ..., 'yes', 'no', 'no'], dtype='<U3')"
            ]
          },
          "metadata": {},
          "execution_count": 7
        }
      ]
    },
    {
      "cell_type": "code",
      "source": [
        "np.savez('drive/MyDrive/chest_xray/Pneumonia_test',inputs=test_inputs,targets=test_targets)"
      ],
      "metadata": {
        "id": "vpaBU_Emij_4"
      },
      "execution_count": null,
      "outputs": []
    },
    {
      "cell_type": "code",
      "source": [
        "val_no_inputs,val_no_targets = val_pre.get_all_photos_as_array(target=no[0],folder_name=no[1])\n",
        "val_yes_inputs,val_yes_targets = val_pre.get_all_photos_as_array(target=yes[0],folder_name=yes[1])"
      ],
      "metadata": {
        "id": "HPTpaf_7hUJw"
      },
      "execution_count": null,
      "outputs": []
    },
    {
      "cell_type": "code",
      "source": [
        "val_inputs = val_pre.add_these_row_wise(val_no_inputs,val_yes_inputs)\n",
        "val_targets = val_pre.add_these_row_wise(val_no_targets,val_yes_targets)\n",
        "val_inputs,val_targets = val_pre.shuffle_inputs_and_targets(val_inputs,val_targets)"
      ],
      "metadata": {
        "id": "GEs2mMC2haIE"
      },
      "execution_count": null,
      "outputs": []
    },
    {
      "cell_type": "code",
      "source": [
        "np.savez('drive/MyDrive/chest_xray/Pneumonia_val',inputs=val_inputs,targets=val_targets)"
      ],
      "metadata": {
        "id": "O8wTQyymhgiX"
      },
      "execution_count": null,
      "outputs": []
    },
    {
      "cell_type": "code",
      "source": [
        "train_no_inputs,train_no_targets = train_pre.get_all_photos_as_array(target=no[0],folder_name=no[1])\n",
        "train_yes_inputs,train_yes_targets = train_pre.get_all_photos_as_array(target=yes[0],folder_name=yes[1])"
      ],
      "metadata": {
        "id": "g05g4HK2jixv"
      },
      "execution_count": null,
      "outputs": []
    },
    {
      "cell_type": "code",
      "source": [
        "type(train_yes_inputs[0][19][9])\n",
        "train_pre.get_photo_array('PNEUMONIA/person25_bacteria_117.jpeg')"
      ],
      "metadata": {
        "colab": {
          "base_uri": "https://localhost:8080/"
        },
        "id": "h56fQIoS-_i0",
        "outputId": "42f55824-dd36-4d7d-c8c1-1cfbed1c0738"
      },
      "execution_count": null,
      "outputs": [
        {
          "output_type": "execute_result",
          "data": {
            "text/plain": [
              "array([[0.69019608, 0.69803922, 0.69019608, ..., 0.34117647, 0.4745098 ,\n",
              "        0.54901961],\n",
              "       [0.64313725, 0.54509804, 0.29803922, ..., 0.18823529, 0.18823529,\n",
              "        0.18431373],\n",
              "       [0.17254902, 0.16862745, 0.16078431, ..., 0.10196078, 0.10588235,\n",
              "        0.11372549],\n",
              "       ...,\n",
              "       [0.17647059, 0.17254902, 0.17254902, ..., 0.10196078, 0.10196078,\n",
              "        0.10196078],\n",
              "       [0.10980392, 0.10588235, 0.10588235, ..., 0.18039216, 0.18431373,\n",
              "        0.18823529],\n",
              "       [0.18823529, 0.18431373, 0.18039216, ..., 0.56078431, 0.58039216,\n",
              "        0.59607843]])"
            ]
          },
          "metadata": {},
          "execution_count": 26
        }
      ]
    },
    {
      "cell_type": "code",
      "source": [
        "train_inputs = train_pre.add_these_row_wise(train_no_inputs,train_yes_inputs)\n",
        "train_targets = train_pre.add_these_row_wise(train_no_targets,train_yes_targets)\n",
        "train_inputs,train_targets = train_pre.shuffle_inputs_and_targets(train_inputs,train_targets)"
      ],
      "metadata": {
        "id": "cDvztRBxji8m"
      },
      "execution_count": null,
      "outputs": []
    },
    {
      "cell_type": "code",
      "source": [
        "np.savez('drive/MyDrive/chest_xray/Pneumonia_train',inputs=train_inputs,targets=train_targets)"
      ],
      "metadata": {
        "id": "Puo1dxhujjTn"
      },
      "execution_count": null,
      "outputs": []
    }
  ]
}